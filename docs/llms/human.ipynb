{
 "cells": [
  {
   "cell_type": "markdown",
   "id": "a1365bc9-aa6b-4aef-beee-3ff4cd06b9a6",
   "metadata": {},
   "source": [
    "## Human\n",
    "\n",
    "If you want to get the user to participate in chain logic, or to substitute in for an LLM, you can do so using the `Human` LLM class:"
   ]
  },
  {
   "cell_type": "code",
   "execution_count": 1,
   "id": "d7280add-0bd6-4d96-8873-1f764851c735",
   "metadata": {
    "tags": []
   },
   "outputs": [
    {
     "name": "stdin",
     "output_type": "stream",
     "text": [
      "Enter something:  Something\n"
     ]
    },
    {
     "data": {
      "text/plain": [
       "'Something'"
      ]
     },
     "execution_count": 1,
     "metadata": {},
     "output_type": "execute_result"
    }
   ],
   "source": [
    "from langchain_contrib.llms.human import Human\n",
    "\n",
    "llm = Human()\n",
    "llm(\"Enter something: \")"
   ]
  },
  {
   "cell_type": "markdown",
   "id": "5d013fd0-7ca4-472b-900c-a65b74feb8b1",
   "metadata": {},
   "source": [
    "By default, the LLM returns the very first thing the user enters. If you want multiline output from the human, you can enforce stops:"
   ]
  },
  {
   "cell_type": "code",
   "execution_count": 5,
   "id": "86eb919a-4abe-44bd-a668-1af97b8d5e88",
   "metadata": {
    "tags": []
   },
   "outputs": [
    {
     "name": "stdin",
     "output_type": "stream",
     "text": [
      "Write me a Python script\n",
      "\n",
      "```\n",
      " #!/usr/bin/env python3\n",
      " print('Hi')\n",
      " ```\n"
     ]
    },
    {
     "name": "stdout",
     "output_type": "stream",
     "text": [
      "The human entered in:\n",
      "\n",
      "#!/usr/bin/env python3\n",
      "print('Hi')\n"
     ]
    }
   ],
   "source": [
    "human_response = llm(\"Write me a Python script\\n\\n```\\n\", stop=[\"\\n```\"])\n",
    "print(f\"The human entered in:\\n\\n{human_response}\")"
   ]
  },
  {
   "cell_type": "markdown",
   "id": "ecefda0b-472f-46b3-b5fb-b34b4723c364",
   "metadata": {},
   "source": [
    "## BaseHuman\n",
    "\n",
    "The basic Human commandline input functionality is provided by the `BaseHuman` class. You can override its `_call` function to customize how the input is handled.\n",
    "\n",
    "For example, `Human` itself overrides `BaseHuman._call` to present a menu when encountering prompts from [ChoicePromptTemplate](/prompts/choice.html). To check this functionality out, run the following snippet in your terminal:\n",
    "\n",
    "```python\n",
    "from langchain_contrib.llms.human import Human\n",
    "from langchain_contrib.prompts import ChoicePromptTemplate\n",
    "\n",
    "llm = Human()\n",
    "choice = ChoicePromptTemplate.from_template(\n",
    "    \"\"\"\n",
    "The colors available are: {choices}\n",
    "\n",
    "Pick a color: \"\"\".lstrip(),\n",
    "    choices=[\"Red\", \"Orange\", \"Blue\"],\n",
    ")\n",
    "llm(choice.format())\n",
    "```\n",
    "\n",
    "(this can't be run in the notebook due to a lack of `/dev/tty`)"
   ]
  }
 ],
 "metadata": {
  "kernelspec": {
   "display_name": "Python 3 (ipykernel)",
   "language": "python",
   "name": "python3"
  },
  "language_info": {
   "codemirror_mode": {
    "name": "ipython",
    "version": 3
   },
   "file_extension": ".py",
   "mimetype": "text/x-python",
   "name": "python",
   "nbconvert_exporter": "python",
   "pygments_lexer": "ipython3",
   "version": "3.11.1"
  }
 },
 "nbformat": 4,
 "nbformat_minor": 5
}
