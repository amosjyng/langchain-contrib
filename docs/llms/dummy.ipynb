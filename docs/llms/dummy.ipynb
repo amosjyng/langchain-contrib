{
 "cells": [
  {
   "cell_type": "markdown",
   "id": "ec8cf626-1500-40be-ac07-843c60d5e506",
   "metadata": {},
   "source": [
    "# Dummy LLM\n",
    "\n",
    "A dummy LLM for when you need to provide an LLM but don't care for a real one.\n",
    "\n",
    "This is similar to the [Fake LLM](/llms/fake.html), except that it errors out on attempted usage. This is to allow you to ensure that this dummy LLM is truly not being used."
   ]
  },
  {
   "cell_type": "code",
   "execution_count": 4,
   "id": "b8a02a75-226e-4b9e-9328-37670b1ce758",
   "metadata": {
    "tags": []
   },
   "outputs": [
    {
     "name": "stdout",
     "output_type": "stream",
     "text": [
      "Error: You're using the dummy LLM\n"
     ]
    }
   ],
   "source": [
    "from langchain_contrib.llms import DummyLanguageModel\n",
    "\n",
    "try:\n",
    "    llm = DummyLanguageModel()\n",
    "    llm.generate_prompt([\"Tell me something\"])\n",
    "except Exception as e:\n",
    "    print(f\"Error: {e}\")"
   ]
  }
 ],
 "metadata": {
  "kernelspec": {
   "display_name": "Python 3 (ipykernel)",
   "language": "python",
   "name": "python3"
  },
  "language_info": {
   "codemirror_mode": {
    "name": "ipython",
    "version": 3
   },
   "file_extension": ".py",
   "mimetype": "text/x-python",
   "name": "python",
   "nbconvert_exporter": "python",
   "pygments_lexer": "ipython3",
   "version": "3.11.1"
  }
 },
 "nbformat": 4,
 "nbformat_minor": 5
}
