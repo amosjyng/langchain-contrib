{
 "cells": [
  {
   "cell_type": "markdown",
   "id": "f20be89d-e5f2-4a01-8f56-2a099030440c",
   "metadata": {},
   "source": [
    "# Dummy Agent\n",
    "\n",
    "Dummy agent for when you need to provide an agent but don't care for a real one.\n",
    "\n",
    "Useful for when you want to use langchain's `AgentExecutor` but not `Agent`. Errors out on attempted usage to ensure that you are not actually using it."
   ]
  },
  {
   "cell_type": "code",
   "execution_count": 1,
   "id": "5acd8557-37e2-4c81-bea9-0cd4b2892d04",
   "metadata": {
    "tags": []
   },
   "outputs": [
    {
     "name": "stdout",
     "output_type": "stream",
     "text": [
      "Error: You're using the dummy Agent\n"
     ]
    }
   ],
   "source": [
    "from langchain_contrib.agents import DummyAgent\n",
    "\n",
    "try:\n",
    "    agent = DummyAgent()\n",
    "    agent._extract_tool_and_input(\"blah blah\")\n",
    "except Exception as e:\n",
    "    print(f\"Error: {e}\")"
   ]
  }
 ],
 "metadata": {
  "kernelspec": {
   "display_name": "Python 3 (ipykernel)",
   "language": "python",
   "name": "python3"
  },
  "language_info": {
   "codemirror_mode": {
    "name": "ipython",
    "version": 3
   },
   "file_extension": ".py",
   "mimetype": "text/x-python",
   "name": "python",
   "nbconvert_exporter": "python",
   "pygments_lexer": "ipython3",
   "version": "3.11.1"
  }
 },
 "nbformat": 4,
 "nbformat_minor": 5
}
