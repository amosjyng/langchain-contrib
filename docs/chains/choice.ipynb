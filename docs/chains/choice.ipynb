{
 "cells": [
  {
   "cell_type": "markdown",
   "id": "6501b245-71be-4830-ad7f-1a341816da94",
   "metadata": {},
   "source": [
    "# Choice Chain\n",
    "\n",
    "Summary: this basically replicates if-else statements for the LLM.\n",
    "\n",
    "Sometimes you reach a junction where you need the LLM to make a decision, and then go down a different set of tracks depending on which decision the LLM made. This is where the `ChoiceChain` comes in. Unlike an `Agent`, which repeatedly makes decisions in a loop, the `ChoiceChain` merely involves a single decision made for a singular junction in time. However, because the subsequent Chain will differ depending on the decision made, the `ChoiceChain` does not produce a stable set of output keys like most other Chains do.\n",
    "\n",
    "The `ChoiceChain` involves two main components:\n",
    "\n",
    "- the *picker* Chain that picks what choice Chain we will go down next\n",
    "- the *choice* Chains that are available to us as track to go down next\n",
    "\n",
    "As an example, suppose you have a chain that evaluates the current state of LLM operations. We'll mock this chain out in lieu of using a real LLM, but let's pretend like an LLM is actually being used to evaluate server logs here."
   ]
  },
  {
   "cell_type": "code",
   "execution_count": 1,
   "id": "2f25b1d7-8de0-426e-8159-66af23a90dbf",
   "metadata": {
    "tags": []
   },
   "outputs": [],
   "source": [
    "from langchain_contrib.chains.testing import FakeChain\n",
    "\n",
    "def check_status(inputs):\n",
    "    if inputs[\"logs\"].startswith(\"MAJOR OUTAGE\"):\n",
    "        return {\"status\": \"Needs human intervention\", \"note\": \"MAJOR OUTAGE\"}\n",
    "    elif inputs[\"logs\"].startswith(\"ERROR\"):\n",
    "        return {\"status\": \"Retry command\", \"note\": \"Permission denied\"}\n",
    "    else:\n",
    "        return {\"status\": \"Proceed\", \"note\": \"Nothing\"}\n",
    "\n",
    "check_status_chain = FakeChain(\n",
    "    expected_inputs=[\"logs\"],\n",
    "    expected_outputs=[\"status\", \"note\"],\n",
    "    inputs_to_outputs=check_status,\n",
    ")"
   ]
  },
  {
   "cell_type": "markdown",
   "id": "d2079551-8720-47d8-b0d3-1c695695fce8",
   "metadata": {},
   "source": [
    "Suppose you also have chains that alternatively:\n",
    "\n",
    "- pages a human\n",
    "- runs a terminal command\n",
    "- continues with the next step in the deployment process"
   ]
  },
  {
   "cell_type": "code",
   "execution_count": 2,
   "id": "40ac8825-e477-47b3-933d-a05f726937af",
   "metadata": {
    "tags": []
   },
   "outputs": [],
   "source": [
    "page_human = FakeChain(expected_inputs=[\"note\"], output={\"email_to\": \"oncall@zamm.dev\"})\n",
    "rerun_terminal_command = FakeChain(expected_inputs=[\"note\"], output={\"command\": \"chmod +x test.py\"})\n",
    "continue_to_next_step = FakeChain(expected_inputs=[\"note\"], output={\"rest\": \"of\", \"deployment\": \"process\"})"
   ]
  },
  {
   "cell_type": "markdown",
   "id": "8393f97d-e349-46c7-88d4-cc4dd5ee8208",
   "metadata": {},
   "source": [
    "Let's now glue all of this together using `ChoiceChain`:"
   ]
  },
  {
   "cell_type": "code",
   "execution_count": 3,
   "id": "848665c6-d93a-4cd9-9a36-4f844cd772a4",
   "metadata": {
    "tags": []
   },
   "outputs": [],
   "source": [
    "from langchain_contrib.chains import ChoiceChain\n",
    "\n",
    "decide_based_on_status = ChoiceChain(\n",
    "    choice_picker=check_status_chain,\n",
    "    choice_key=\"status\",\n",
    "    choices={\n",
    "        \"Needs human intervention\": page_human,\n",
    "        \"Retry command\": rerun_terminal_command,\n",
    "        \"Proceed\": continue_to_next_step,\n",
    "    },\n",
    ")"
   ]
  },
  {
   "cell_type": "markdown",
   "id": "9dbb1b32-729e-4d65-bd4a-a4d5cb0617dc",
   "metadata": {},
   "source": [
    "If the server logs mention something scary, we run down the chain where the LLM asks for human intervention:"
   ]
  },
  {
   "cell_type": "code",
   "execution_count": 4,
   "id": "d9253167-881b-4253-bbf0-2187013add3e",
   "metadata": {
    "tags": []
   },
   "outputs": [
    {
     "data": {
      "text/plain": [
       "{'status': 'Needs human intervention',\n",
       " 'note': 'MAJOR OUTAGE',\n",
       " 'email_to': 'oncall@zamm.dev'}"
      ]
     },
     "execution_count": 4,
     "metadata": {},
     "output_type": "execute_result"
    }
   ],
   "source": [
    "decide_based_on_status({\"logs\": \"MAJOR OUTAGE AT us-east-2\"}, return_only_outputs=True)"
   ]
  },
  {
   "cell_type": "markdown",
   "id": "84f91300-ada5-49ee-bf24-de12282d19c5",
   "metadata": {},
   "source": [
    "If instead the server logs mention an error that the LLM thinks it can fix, we run down the chain where the LLM runs a different terminal command. Note the difference in output from the last invocation of the same `decide_based_on_status` chain!"
   ]
  },
  {
   "cell_type": "code",
   "execution_count": 5,
   "id": "01db90a1-d646-4a73-adad-41f840b5f29a",
   "metadata": {
    "tags": []
   },
   "outputs": [
    {
     "data": {
      "text/plain": [
       "{'status': 'Retry command',\n",
       " 'note': 'Permission denied',\n",
       " 'command': 'chmod +x test.py'}"
      ]
     },
     "execution_count": 5,
     "metadata": {},
     "output_type": "execute_result"
    }
   ],
   "source": [
    "decide_based_on_status({\"logs\": \"ERROR: Permission denied\"}, return_only_outputs=True)"
   ]
  },
  {
   "cell_type": "markdown",
   "id": "1a88a118-ef00-4f40-a88b-46c2e5a470e6",
   "metadata": {},
   "source": [
    "Finally, if everything looks good, we run down the chain where everything else happens."
   ]
  },
  {
   "cell_type": "code",
   "execution_count": 6,
   "id": "0fa0ac44-ab71-4601-a352-3832bafd6f6f",
   "metadata": {
    "tags": []
   },
   "outputs": [
    {
     "data": {
      "text/plain": [
       "{'status': 'Proceed', 'note': 'Nothing', 'rest': 'of', 'deployment': 'process'}"
      ]
     },
     "execution_count": 6,
     "metadata": {},
     "output_type": "execute_result"
    }
   ],
   "source": [
    "decide_based_on_status({\"logs\": \"Nothing of note\"}, return_only_outputs=True)"
   ]
  },
  {
   "cell_type": "markdown",
   "id": "dd34ff05-253b-4637-8c14-e4c6320ba425",
   "metadata": {},
   "source": [
    "## Choice chains with different inputs\n",
    "\n",
    "We've seen that choice chains can produce different outputs. However, if there's existing chains we want to make use of, it's also possible that the choice chains can take in different inputs.\n",
    "\n",
    "Suppose that in the above example, we are gluing together chains that have radically different inputs:"
   ]
  },
  {
   "cell_type": "code",
   "execution_count": 7,
   "id": "2d028e67-f77d-40a3-aa63-2bd85ad900f8",
   "metadata": {
    "tags": []
   },
   "outputs": [],
   "source": [
    "page_human = FakeChain(expected_inputs=[\"emergency\"], output={\"email_to\": \"oncall@zamm.dev\"})\n",
    "rerun_terminal_command = FakeChain(expected_inputs=[\"error_type\", \"note\"], output={\"command\": \"chmod +x test.py\"})\n",
    "continue_to_next_step = FakeChain(expected_inputs=[], output={\"rest\": \"of\", \"deployment\": \"process\"})\n",
    "\n",
    "decide_based_on_status.choices = {\n",
    "    \"Needs human intervention\": page_human,\n",
    "    \"Retry command\": rerun_terminal_command,\n",
    "    \"Proceed\": continue_to_next_step,\n",
    "}"
   ]
  },
  {
   "cell_type": "markdown",
   "id": "9dc68c5b-e65a-403e-88ab-a041aa2cd7e5",
   "metadata": {},
   "source": [
    "Because the inputs have changed, the output from the choice picker chain can no longer be used directly. Some chains are missing arguments and others have extra ones."
   ]
  },
  {
   "cell_type": "code",
   "execution_count": 8,
   "id": "8547181b-673a-4bfa-8f2c-c93093362138",
   "metadata": {
    "tags": []
   },
   "outputs": [
    {
     "name": "stdout",
     "output_type": "stream",
     "text": [
      "KeyError(\"Extra input keys for choice: {'note'}\")\n"
     ]
    }
   ],
   "source": [
    "try:\n",
    "    decide_based_on_status({\"logs\": \"MAJOR OUTAGE AT us-east-2\"}, return_only_outputs=True)\n",
    "except Exception as e:\n",
    "    print(repr(e))"
   ]
  },
  {
   "cell_type": "code",
   "execution_count": 9,
   "id": "227f94e9-1554-4c1b-a928-0cc9aa296fcc",
   "metadata": {},
   "outputs": [
    {
     "name": "stdout",
     "output_type": "stream",
     "text": [
      "ValueError(\"Missing some input keys: {'error_type'}\")\n"
     ]
    }
   ],
   "source": [
    "try:\n",
    "    decide_based_on_status({\"logs\": \"ERROR: Permission Denied\"}, return_only_outputs=True)\n",
    "except Exception as e:\n",
    "    print(repr(e))"
   ]
  },
  {
   "cell_type": "markdown",
   "id": "f40d3ecf-2476-4ed8-82f6-b775818db74f",
   "metadata": {},
   "source": [
    "However, we could still glue these together by setting `prep_picker_output` to customize the arguments being passed into each step:"
   ]
  },
  {
   "cell_type": "code",
   "execution_count": 10,
   "id": "c565b7c5-3db2-4c5e-93a8-854e02b6b2d6",
   "metadata": {
    "tags": []
   },
   "outputs": [],
   "source": [
    "from typing import Dict\n",
    "\n",
    "def prep_output(picker_output: Dict[str, str]) -> Dict[str, str]:\n",
    "    status = picker_output[\"status\"]\n",
    "    if status == \"Needs human intervention\":\n",
    "        args = {\"emergency\": picker_output[\"note\"]}\n",
    "    elif status == \"Retry command\":\n",
    "        args = {\"error_type\": \"Permissions\", \"note\": picker_output[\"note\"]}\n",
    "    else:\n",
    "        args = {}\n",
    "    return {\"status\": status, **args}\n",
    "\n",
    "decide_based_on_status.prep_picker_output = prep_output"
   ]
  },
  {
   "cell_type": "markdown",
   "id": "7e6c75cf-7a9b-4bca-af43-ca3eed59401a",
   "metadata": {},
   "source": [
    "Now we can invoke each chain with the inputs it expects."
   ]
  },
  {
   "cell_type": "code",
   "execution_count": 11,
   "id": "ddf518c9-3979-4165-8fe1-71ddfea14e59",
   "metadata": {
    "tags": []
   },
   "outputs": [
    {
     "data": {
      "text/plain": [
       "{'status': 'Needs human intervention',\n",
       " 'emergency': 'MAJOR OUTAGE',\n",
       " 'email_to': 'oncall@zamm.dev'}"
      ]
     },
     "execution_count": 11,
     "metadata": {},
     "output_type": "execute_result"
    }
   ],
   "source": [
    "decide_based_on_status({\"logs\": \"MAJOR OUTAGE AT us-east-2\"}, return_only_outputs=True)"
   ]
  },
  {
   "cell_type": "code",
   "execution_count": 12,
   "id": "159a26e9-eb4f-422b-a2c2-9a375f37557c",
   "metadata": {
    "tags": []
   },
   "outputs": [
    {
     "data": {
      "text/plain": [
       "{'status': 'Retry command',\n",
       " 'error_type': 'Permissions',\n",
       " 'note': 'Permission denied',\n",
       " 'command': 'chmod +x test.py'}"
      ]
     },
     "execution_count": 12,
     "metadata": {},
     "output_type": "execute_result"
    }
   ],
   "source": [
    "decide_based_on_status({\"logs\": \"ERROR: Permission Denied\"}, return_only_outputs=True)"
   ]
  }
 ],
 "metadata": {
  "kernelspec": {
   "display_name": "Python 3 (ipykernel)",
   "language": "python",
   "name": "python3"
  },
  "language_info": {
   "codemirror_mode": {
    "name": "ipython",
    "version": 3
   },
   "file_extension": ".py",
   "mimetype": "text/x-python",
   "name": "python",
   "nbconvert_exporter": "python",
   "pygments_lexer": "ipython3",
   "version": "3.11.1"
  }
 },
 "nbformat": 4,
 "nbformat_minor": 5
}
