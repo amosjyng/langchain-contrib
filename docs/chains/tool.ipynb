{
 "cells": [
  {
   "cell_type": "markdown",
   "id": "f9018acd-7d5d-4fe6-9d50-c1b6a38e07d3",
   "metadata": {},
   "source": [
    "# Tool Chain\n",
    "\n",
    "If you want to use a Tool outside of an Agent, `ToolChain` lets you wrap a chain around your tool:"
   ]
  },
  {
   "cell_type": "code",
   "execution_count": 1,
   "id": "12f99d44-296f-4d64-b888-cc480aa498a2",
   "metadata": {
    "tags": []
   },
   "outputs": [
    {
     "data": {
      "text/plain": [
       "{'action_result': '/home/amos/projects/gpt-experiments/langchain-contrib/docs/chains\\n'}"
      ]
     },
     "execution_count": 1,
     "metadata": {},
     "output_type": "execute_result"
    }
   ],
   "source": [
    "from langchain_contrib.chains.tool import ToolChain\n",
    "from langchain_contrib.tools import TerminalTool\n",
    "\n",
    "terminal = TerminalTool()\n",
    "terminal_chain = ToolChain(tool=terminal)\n",
    "terminal_chain({\"action_input\": \"pwd\"}, return_only_outputs=True)"
   ]
  },
  {
   "cell_type": "markdown",
   "id": "edb71422-c06a-4075-a2f3-543f943e51ca",
   "metadata": {},
   "source": [
    "You can now interact with this chain from other chains. Imagine that you have a chain to grab SQL records given the current time:"
   ]
  },
  {
   "cell_type": "code",
   "execution_count": 2,
   "id": "cfba7ade-3917-4038-b63c-acdd26b6cc8c",
   "metadata": {
    "tags": []
   },
   "outputs": [],
   "source": [
    "from langchain_contrib.chains.testing import FakeChain\n",
    "\n",
    "sql_chain = FakeChain(\n",
    "    expected_inputs=[\"time\"],\n",
    "    output={\"events_from_last_24_hrs\": \"a,b,c\"},\n",
    ")"
   ]
  },
  {
   "cell_type": "markdown",
   "id": "7291da6b-cea2-44ac-a3a9-52fe699e6fff",
   "metadata": {},
   "source": [
    "It expects a `time` input argument, so you update the output key of the `ToolChain` wrapper:"
   ]
  },
  {
   "cell_type": "code",
   "execution_count": 3,
   "id": "df9d5751-6cf9-4cb0-8e18-f7876622af20",
   "metadata": {},
   "outputs": [],
   "source": [
    "terminal_chain.tool_output_key = \"time\""
   ]
  },
  {
   "cell_type": "markdown",
   "id": "92e7f617-42b3-42b9-808e-d9a13386fec8",
   "metadata": {},
   "source": [
    "and chain the two together:"
   ]
  },
  {
   "cell_type": "code",
   "execution_count": 4,
   "id": "e610fa2c-28bb-4ca4-8d12-ac93f281afff",
   "metadata": {
    "tags": []
   },
   "outputs": [
    {
     "data": {
      "text/plain": [
       "{'time': 'Thu Mar 23 15:03:04 AEDT 2023\\n', 'events_from_last_24_hrs': 'a,b,c'}"
      ]
     },
     "execution_count": 4,
     "metadata": {},
     "output_type": "execute_result"
    }
   ],
   "source": [
    "from langchain.chains.sequential import SequentialChain\n",
    "\n",
    "chained = SequentialChain(\n",
    "    chains=[terminal_chain, sql_chain],\n",
    "    input_variables=[\"action_input\"],\n",
    "    output_variables=[\"time\", \"events_from_last_24_hrs\"],\n",
    "    return_all=True,\n",
    ")\n",
    "chained({\"action_input\": \"date\"}, return_only_outputs=True)"
   ]
  }
 ],
 "metadata": {
  "kernelspec": {
   "display_name": "Python 3 (ipykernel)",
   "language": "python",
   "name": "python3"
  },
  "language_info": {
   "codemirror_mode": {
    "name": "ipython",
    "version": 3
   },
   "file_extension": ".py",
   "mimetype": "text/x-python",
   "name": "python",
   "nbconvert_exporter": "python",
   "pygments_lexer": "ipython3",
   "version": "3.11.1"
  }
 },
 "nbformat": 4,
 "nbformat_minor": 5
}
