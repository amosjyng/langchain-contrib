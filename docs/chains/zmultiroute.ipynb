{
 "cells": [
  {
   "cell_type": "markdown",
   "id": "6501b245-71be-4830-ad7f-1a341816da94",
   "metadata": {},
   "source": [
    "# ZMultiRouteChain\n",
    "\n",
    "This is a subclass of langchain's `MultiRouteChain` that allows for automatic creation of a multi-route chain from a list of tools. Using `ZMultiRouteChain.from_tools` will also set a color for each tool to use when logging."
   ]
  },
  {
   "cell_type": "code",
   "execution_count": 1,
   "id": "6464519d-2b24-48ae-a8c4-e83c60db83a0",
   "metadata": {
    "tags": []
   },
   "outputs": [
    {
     "name": "stdout",
     "output_type": "stream",
     "text": [
      "\n",
      "\n",
      "\u001b[1m> Entering new  chain...\u001b[0m\n",
      "Python_REPL: print(2 ** 16)\n",
      "\u001b[36;1m\u001b[1;3m65536\n",
      "\u001b[0m\n",
      "\n",
      "\u001b[1m> Finished chain.\u001b[0m\n",
      "\n",
      "\n",
      "\u001b[1m> Entering new  chain...\u001b[0m\n",
      "terminal: date\n",
      "\u001b[33;1m\u001b[1;3mTue Jul  4 14:44:15 +07 2023\n",
      "\u001b[0m\n",
      "\n",
      "\u001b[1m> Finished chain.\u001b[0m\n"
     ]
    },
    {
     "name": "stderr",
     "output_type": "stream",
     "text": [
      "/home/amos/.cache/pypoetry/virtualenvs/langchain-contrib-mTbtaW20-py3.11/lib/python3.11/site-packages/langchain/tools/shell/tool.py:33: UserWarning: The shell tool has no safeguards by default. Use at your own risk.\n",
      "  warnings.warn(\n"
     ]
    },
    {
     "data": {
      "text/plain": [
       "{'destination': 'terminal',\n",
       " 'next_inputs': 'date',\n",
       " 'action_input': 'date',\n",
       " 'action_result': 'Tue Jul  4 14:44:15 +07 2023\\n'}"
      ]
     },
     "execution_count": 1,
     "metadata": {},
     "output_type": "execute_result"
    }
   ],
   "source": [
    "from langchain.tools.python.tool import PythonREPLTool\n",
    "from langchain.tools.shell.tool import ShellTool\n",
    "from langchain_contrib.chains import ZMultiRouteChain\n",
    "from langchain_contrib.chains.testing import FakeRouterChain\n",
    "\n",
    "chain = ZMultiRouteChain.from_tools(\n",
    "    FakeRouterChain(),\n",
    "    [PythonREPLTool(), ShellTool()],\n",
    "    verbose=True,\n",
    ")\n",
    "chain({\"destination\": \"Python_REPL\", \"next_inputs\": \"print(2 ** 16)\"})\n",
    "chain({\"destination\": \"terminal\", \"next_inputs\": \"date\"})"
   ]
  },
  {
   "cell_type": "markdown",
   "id": "5b6f54a0-9560-4b21-81f7-069a9b01b0da",
   "metadata": {},
   "source": [
    "The chain remembers colors for tools on subsequent runs:"
   ]
  },
  {
   "cell_type": "code",
   "execution_count": 2,
   "id": "d3d3b17a-27b2-4d16-b9ee-cf27575816c8",
   "metadata": {
    "tags": []
   },
   "outputs": [
    {
     "name": "stdout",
     "output_type": "stream",
     "text": [
      "\n",
      "\n",
      "\u001b[1m> Entering new  chain...\u001b[0m\n",
      "terminal: ls\n",
      "\u001b[33;1m\u001b[1;3mchains.rst\n",
      "dummy.ipynb\n",
      "fake.ipynb\n",
      "tool.ipynb\n",
      "zmultiroute.ipynb\n",
      "\u001b[0m\n",
      "\n",
      "\u001b[1m> Finished chain.\u001b[0m\n"
     ]
    },
    {
     "data": {
      "text/plain": [
       "{'destination': 'terminal',\n",
       " 'next_inputs': 'ls',\n",
       " 'action_input': 'ls',\n",
       " 'action_result': 'chains.rst\\ndummy.ipynb\\nfake.ipynb\\ntool.ipynb\\nzmultiroute.ipynb\\n'}"
      ]
     },
     "execution_count": 2,
     "metadata": {},
     "output_type": "execute_result"
    }
   ],
   "source": [
    "chain({\"destination\": \"terminal\", \"next_inputs\": \"ls\"})"
   ]
  },
  {
   "cell_type": "markdown",
   "id": "6913561f-4e52-46ca-8c6e-7a411d0a0830",
   "metadata": {},
   "source": [
    "## Prompting\n",
    "\n",
    "To build prompts for the `ZMultiRouteChain`, you can use the [ChoicePromptTemplate](/prompts/choice.html) for help in doing so.\n",
    "\n",
    "## Testing\n",
    "\n",
    "To fake the routing chain that picks which route to use for the `ZMultiRouteChain`, you can use [the Fake Router Chain](/chains/fake.html#Fake-Router-Chain)."
   ]
  }
 ],
 "metadata": {
  "kernelspec": {
   "display_name": "Python 3 (ipykernel)",
   "language": "python",
   "name": "python3"
  },
  "language_info": {
   "codemirror_mode": {
    "name": "ipython",
    "version": 3
   },
   "file_extension": ".py",
   "mimetype": "text/x-python",
   "name": "python",
   "nbconvert_exporter": "python",
   "pygments_lexer": "ipython3",
   "version": "3.11.1"
  }
 },
 "nbformat": 4,
 "nbformat_minor": 5
}
