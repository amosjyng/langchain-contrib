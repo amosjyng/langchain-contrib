{
 "cells": [
  {
   "cell_type": "markdown",
   "id": "ce939ebb-f362-448a-9f65-65c0150ab884",
   "metadata": {},
   "source": [
    "# Dummy LLM Chain\n",
    "\n",
    "A dummy LLMChain for when you need to provide an LLMChain but don't care for a real one.\n",
    "\n",
    "This is similar to the [Fake chain](/chains/fake.html), except that it errors out on attempted usage. This is to allow you to ensure that this dummy chain is truly not being used."
   ]
  },
  {
   "cell_type": "code",
   "execution_count": 1,
   "id": "d4efa63e-38f7-4aa9-b334-e8655ff924e1",
   "metadata": {
    "tags": []
   },
   "outputs": [
    {
     "name": "stdout",
     "output_type": "stream",
     "text": [
      "Error: You're using the dummy prompt template.\n"
     ]
    }
   ],
   "source": [
    "from langchain_contrib.chains import DummyLLMChain\n",
    "\n",
    "try:\n",
    "    chain = DummyLLMChain()\n",
    "    chain({\"random\": \"input\"})\n",
    "except Exception as e:\n",
    "    print(f\"Error: {e}\")"
   ]
  }
 ],
 "metadata": {
  "kernelspec": {
   "display_name": "contrib-env",
   "language": "python",
   "name": "contrib-env"
  },
  "language_info": {
   "codemirror_mode": {
    "name": "ipython",
    "version": 3
   },
   "file_extension": ".py",
   "mimetype": "text/x-python",
   "name": "python",
   "nbconvert_exporter": "python",
   "pygments_lexer": "ipython3",
   "version": "3.11.1"
  }
 },
 "nbformat": 4,
 "nbformat_minor": 5
}
