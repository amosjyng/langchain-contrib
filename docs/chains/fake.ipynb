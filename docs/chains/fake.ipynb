{
 "cells": [
  {
   "cell_type": "markdown",
   "id": "2ccdd4fc-1fd2-4994-9a52-9211258e3deb",
   "metadata": {},
   "source": [
    "# Fake Chain\n",
    "\n",
    "This fake Chain can be used for mocking Chain calls during testing."
   ]
  },
  {
   "cell_type": "code",
   "execution_count": 1,
   "id": "7fa9813d-c3bb-4538-8906-4eca8c14d809",
   "metadata": {
    "tags": []
   },
   "outputs": [
    {
     "data": {
      "text/plain": [
       "{'Hello': 'World'}"
      ]
     },
     "execution_count": 1,
     "metadata": {},
     "output_type": "execute_result"
    }
   ],
   "source": [
    "from langchain_contrib.chains.testing import FakeChain\n",
    "\n",
    "chain = FakeChain(output={\"Hello\": \"World\"})\n",
    "chain({})"
   ]
  },
  {
   "cell_type": "markdown",
   "id": "1e5cc57a-77e1-495e-832a-379d30dd305a",
   "metadata": {},
   "source": [
    "If you want it to accept inputs, then you should declare its `expected_inputs` so that LangChain doesn't complain about unexpected input keys:"
   ]
  },
  {
   "cell_type": "code",
   "execution_count": 2,
   "id": "4e8a4872-862e-49b3-986d-29f0e28949c2",
   "metadata": {
    "tags": []
   },
   "outputs": [
    {
     "data": {
      "text/plain": [
       "{'a': 'sdf', 'Hello': 'World'}"
      ]
     },
     "execution_count": 2,
     "metadata": {},
     "output_type": "execute_result"
    }
   ],
   "source": [
    "chain = FakeChain(output={\"Hello\": \"World\"}, expected_inputs=[\"a\"])\n",
    "chain({\"a\": \"sdf\"})"
   ]
  },
  {
   "cell_type": "markdown",
   "id": "00c82e5d-6729-453b-9e47-d2ccd393375d",
   "metadata": {},
   "source": [
    "If you want to have it programmatically convert inputs to outputs so that you don't have to define a new `FakeChain` every single time, you can define its `inputs_to_outputs` function. When doing so, you should also declare its `expected_outputs` so that LangChain doesn't complain about unexpected output keys:"
   ]
  },
  {
   "cell_type": "code",
   "execution_count": 3,
   "id": "0700f856-326d-4061-8809-565ce1b65a88",
   "metadata": {
    "tags": []
   },
   "outputs": [
    {
     "data": {
      "text/plain": [
       "{'b': 'Hello World!'}"
      ]
     },
     "execution_count": 3,
     "metadata": {},
     "output_type": "execute_result"
    }
   ],
   "source": [
    "from typing import Dict\n",
    "\n",
    "def append_exclamation(inputs: Dict[str, str]) -> Dict[str, str]:\n",
    "    return {\"b\": inputs[\"a\"] + \"!\"}\n",
    "\n",
    "chain = FakeChain(\n",
    "    expected_inputs=[\"a\"],\n",
    "    expected_outputs=[\"b\"],\n",
    "    inputs_to_outputs=append_exclamation,\n",
    ")\n",
    "chain({\"a\": \"Hello World\"}, return_only_outputs=True)"
   ]
  },
  {
   "cell_type": "markdown",
   "id": "6755d811-effe-4890-9ecc-78d1ae1b2f9e",
   "metadata": {},
   "source": [
    "## Fake Router Chain\n",
    "\n",
    "This allows you to test [multi-route chains](/chains/zmultiroute.html)."
   ]
  },
  {
   "cell_type": "code",
   "execution_count": 4,
   "id": "53cde397-901b-4e02-9086-ad79dcbdf97a",
   "metadata": {
    "tags": []
   },
   "outputs": [
    {
     "data": {
      "text/plain": [
       "{'choice': 'One'}"
      ]
     },
     "execution_count": 4,
     "metadata": {},
     "output_type": "execute_result"
    }
   ],
   "source": [
    "from langchain_contrib.chains.testing import FakeRouterChain\n",
    "\n",
    "chain = FakeRouterChain()\n",
    "chain({\"destination\": \"One\", \"next_inputs\": {\"b\": \"Two\"}}, return_only_outputs=True)"
   ]
  }
 ],
 "metadata": {
  "kernelspec": {
   "display_name": "Python 3 (ipykernel)",
   "language": "python",
   "name": "python3"
  },
  "language_info": {
   "codemirror_mode": {
    "name": "ipython",
    "version": 3
   },
   "file_extension": ".py",
   "mimetype": "text/x-python",
   "name": "python",
   "nbconvert_exporter": "python",
   "pygments_lexer": "ipython3",
   "version": "3.11.1"
  }
 },
 "nbformat": 4,
 "nbformat_minor": 5
}
