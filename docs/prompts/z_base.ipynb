{
 "cells": [
  {
   "cell_type": "markdown",
   "id": "d050d778-34a5-402f-b864-1b9e0a7136a7",
   "metadata": {},
   "source": [
    "# ZBasePromptTemplate\n",
    "\n",
    "The `ZBasePromptTemplate` extends `BasePromptTemplate` in multiple ways:\n",
    "\n",
    "- It allows for partial variables of arbitrary types\n",
    "- It allows for only overriding `_prompt_type` and `format_prompt` during subclassing, as `format` is rather redundant now.\n",
    "- `ZChatPromptTemplate` allows for partials, unlike `ChatPromptTemplate` (as of langchain v0.0.125)\n",
    "\n",
    "It can either be wrapped around an existing `BasePromptTemplate`:"
   ]
  },
  {
   "cell_type": "code",
   "execution_count": 1,
   "id": "07797c8d-74d2-4574-898c-dda87c430cfe",
   "metadata": {
    "tags": []
   },
   "outputs": [
    {
     "data": {
      "text/plain": [
       "'a=one b=2 c=[3]'"
      ]
     },
     "execution_count": 1,
     "metadata": {},
     "output_type": "execute_result"
    }
   ],
   "source": [
    "from langchain_contrib.prompts import ZBasePromptTemplate\n",
    "from langchain.prompts.prompt import PromptTemplate\n",
    "\n",
    "base = PromptTemplate.from_template(\"a={a} b={b} c={c}\").partial(a=\"one\")\n",
    "z_base = ZBasePromptTemplate.from_base_template(base).permissive_partial(b=2)\n",
    "z_base.format(c=[3])"
   ]
  },
  {
   "cell_type": "markdown",
   "id": "5b9c19c2-e47a-4cfe-98cd-345e2d67613d",
   "metadata": {},
   "source": [
    "Or it can be subclassed. Note that you no longer need to also override `format` here."
   ]
  },
  {
   "cell_type": "code",
   "execution_count": 2,
   "id": "30f145ed-60f8-42cf-8967-0f97104ea4a2",
   "metadata": {
    "tags": []
   },
   "outputs": [
    {
     "data": {
      "text/plain": [
       "'a=one b=2 c=[3]'"
      ]
     },
     "execution_count": 2,
     "metadata": {},
     "output_type": "execute_result"
    }
   ],
   "source": [
    "from typing import List, Any\n",
    "from langchain.prompts.base import StringPromptValue\n",
    "from langchain.schema import PromptValue\n",
    "\n",
    "\n",
    "class DemoPromptTemplate(ZBasePromptTemplate):\n",
    "    \"\"\"Demonstration of subclassing a ZBasePromptTemplate.\"\"\"\n",
    "\n",
    "    input_variables: List[str] = [\"a\", \"b\", \"c\"]\n",
    "\n",
    "    @property\n",
    "    def _prompt_type(self) -> str:\n",
    "        return \"demo\"\n",
    "\n",
    "    def _format_prompt(self, **kwargs: Any) -> PromptValue:\n",
    "        \"\"\"Return a demonstration of a partial prompt.\"\"\"\n",
    "        return StringPromptValue(text=\"a={a} b={b} c={c}\".format(**kwargs))\n",
    "\n",
    "    \n",
    "z_base = DemoPromptTemplate().permissive_partial(a=\"one\", b=2)\n",
    "z_base.format(c=[3])"
   ]
  },
  {
   "cell_type": "markdown",
   "id": "efd1563e-0ccb-4bbc-ab76-f38611748010",
   "metadata": {},
   "source": [
    "There also exists `ZStringPromptTemplate`, `ZPromptTemplate`, and `ZChatPromptTemplate`, which should be plug-and-play replacements for their regular Langchain counterparts. `ZChatPromptTemplate` in particular allows for partials of both the regular and the permissive kinds:"
   ]
  },
  {
   "cell_type": "code",
   "execution_count": 3,
   "id": "f1569799-89ae-4a4b-8483-4b53781a4942",
   "metadata": {
    "tags": []
   },
   "outputs": [
    {
     "data": {
      "text/plain": [
       "ChatPromptValue(messages=[SystemMessage(content='a=one b=2 c=[3]', additional_kwargs={})])"
      ]
     },
     "execution_count": 3,
     "metadata": {},
     "output_type": "execute_result"
    }
   ],
   "source": [
    "from langchain_contrib.prompts import ZChatPromptTemplate\n",
    "from langchain.prompts.chat import SystemMessagePromptTemplate\n",
    "\n",
    "template = ZChatPromptTemplate.from_messages(\n",
    "    [SystemMessagePromptTemplate.from_template(\"a={a} b={b} c={c}\")]\n",
    ")\n",
    "partial = template.partial(a=\"one\").permissive_partial(b=2)\n",
    "partial.format_prompt(c=[3])"
   ]
  },
  {
   "cell_type": "markdown",
   "id": "c856c9ea-864d-4ada-bf3c-10fa0102fa8f",
   "metadata": {},
   "source": [
    "The permissive partials also call any functions you pass in, just as the regular kinds do. To reproduce an example from the Langchain docs:"
   ]
  },
  {
   "cell_type": "code",
   "execution_count": 4,
   "id": "8551f75d-351b-40f6-9d6d-1190728165d3",
   "metadata": {
    "tags": []
   },
   "outputs": [
    {
     "name": "stdout",
     "output_type": "stream",
     "text": [
      "Tell me a funny joke about the day 03/30/2023, 19:59:06\n"
     ]
    }
   ],
   "source": [
    "from datetime import datetime\n",
    "from langchain_contrib.prompts import ZPromptTemplate\n",
    "\n",
    "def _get_datetime():\n",
    "    now = datetime.now()\n",
    "    return now.strftime(\"%m/%d/%Y, %H:%M:%S\")\n",
    "\n",
    "prompt = ZPromptTemplate.from_template(\n",
    "    \"Tell me a {adjective} joke about the day {date}\"\n",
    ")\n",
    "partial_prompt = prompt.permissive_partial(date=_get_datetime)\n",
    "print(partial_prompt.format(adjective=\"funny\"))"
   ]
  }
 ],
 "metadata": {
  "kernelspec": {
   "display_name": "Python 3 (ipykernel)",
   "language": "python",
   "name": "python3"
  },
  "language_info": {
   "codemirror_mode": {
    "name": "ipython",
    "version": 3
   },
   "file_extension": ".py",
   "mimetype": "text/x-python",
   "name": "python",
   "nbconvert_exporter": "python",
   "pygments_lexer": "ipython3",
   "version": "3.11.1"
  }
 },
 "nbformat": 4,
 "nbformat_minor": 5
}
