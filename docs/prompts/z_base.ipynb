{
 "cells": [
  {
   "cell_type": "markdown",
   "id": "d050d778-34a5-402f-b864-1b9e0a7136a7",
   "metadata": {},
   "source": [
    "# ZBasePromptTemplate\n",
    "\n",
    "The `ZBasePromptTemplate` extends `BasePromptTemplate` in multiple ways:\n",
    "\n",
    "- Partial variables now support arbitrary types (used by [ChoicePromptTemplate](/prompts/choice.html) to accept arrays as partials)\n",
    "- Partial variables now support using defaults from other keys\n",
    "- Only `_prompt_type` and `format_prompt` need to be overridden during subclassing, as `format` is rather redundant now.\n",
    "- `ZChatPromptTemplate` supports partials, unlike `ChatPromptTemplate` (as of langchain v0.0.125)\n",
    "\n",
    "There also exists `ZStringPromptTemplate`, `ZPromptTemplate`, and `ZChatPromptTemplate`, which should be plug-and-play replacements for their regular Langchain counterparts.\n",
    "\n",
    "## Usage\n",
    "\n",
    "It can be used directly:"
   ]
  },
  {
   "cell_type": "code",
   "execution_count": 1,
   "id": "d2057afa-db26-4df5-a065-244ea990aed3",
   "metadata": {
    "tags": []
   },
   "outputs": [
    {
     "data": {
      "text/plain": [
       "'a=one b=2 c=[3]'"
      ]
     },
     "execution_count": 1,
     "metadata": {},
     "output_type": "execute_result"
    }
   ],
   "source": [
    "from langchain_contrib.prompts import ZPromptTemplate\n",
    "\n",
    "template = ZPromptTemplate.from_template(\"a={a} b={b} c={c}\").partial(a=\"one\")\n",
    "template.format(b=2, c=[3])"
   ]
  },
  {
   "cell_type": "markdown",
   "id": "f42667f1-7542-4a9d-b339-4180c14eb40c",
   "metadata": {},
   "source": [
    "Or wrapped around an existing `BasePromptTemplate`:"
   ]
  },
  {
   "cell_type": "code",
   "execution_count": 2,
   "id": "07797c8d-74d2-4574-898c-dda87c430cfe",
   "metadata": {
    "tags": []
   },
   "outputs": [
    {
     "data": {
      "text/plain": [
       "'a=one b=2 c=[3]'"
      ]
     },
     "execution_count": 2,
     "metadata": {},
     "output_type": "execute_result"
    }
   ],
   "source": [
    "from langchain_contrib.prompts import ZBasePromptTemplate\n",
    "from langchain.prompts.prompt import PromptTemplate\n",
    "\n",
    "base = PromptTemplate.from_template(\"a={a} b={b} c={c}\").partial(a=\"one\")\n",
    "z_base = ZBasePromptTemplate.from_base_template(base).permissive_partial(b=2)\n",
    "z_base.format(c=[3])"
   ]
  },
  {
   "cell_type": "markdown",
   "id": "5b9c19c2-e47a-4cfe-98cd-345e2d67613d",
   "metadata": {},
   "source": [
    "Or it can be subclassed. Note that you no longer need to also override `format` here."
   ]
  },
  {
   "cell_type": "code",
   "execution_count": 3,
   "id": "30f145ed-60f8-42cf-8967-0f97104ea4a2",
   "metadata": {
    "tags": []
   },
   "outputs": [
    {
     "data": {
      "text/plain": [
       "'a=one b=2 c=[3]'"
      ]
     },
     "execution_count": 3,
     "metadata": {},
     "output_type": "execute_result"
    }
   ],
   "source": [
    "from typing import List, Any\n",
    "from langchain.prompts.base import StringPromptValue\n",
    "from langchain.schema import PromptValue\n",
    "\n",
    "\n",
    "class DemoPromptTemplate(ZBasePromptTemplate):\n",
    "    \"\"\"Demonstration of subclassing a ZBasePromptTemplate.\"\"\"\n",
    "\n",
    "    input_variables: List[str] = [\"a\", \"b\", \"c\"]\n",
    "\n",
    "    @property\n",
    "    def _prompt_type(self) -> str:\n",
    "        return \"demo\"\n",
    "\n",
    "    def _format_prompt(self, **kwargs: Any) -> PromptValue:\n",
    "        \"\"\"Return a demonstration of a partial prompt.\"\"\"\n",
    "        return StringPromptValue(text=\"a={a} b={b} c={c}\".format(**kwargs))\n",
    "\n",
    "    \n",
    "z_base = DemoPromptTemplate().permissive_partial(a=\"one\", b=2)\n",
    "z_base.format(c=[3])"
   ]
  },
  {
   "cell_type": "markdown",
   "id": "13a0ad1e-4403-4e43-b00f-9d9ca7eb3577",
   "metadata": {},
   "source": [
    "## Partials support\n",
    "\n",
    "Arbitrary types can be passed into the `permissive_partial` function. (After all, the `BasePromptTemplate.format_prompt` function supports arbitrary types, so why shouldn't partials?)"
   ]
  },
  {
   "cell_type": "code",
   "execution_count": 4,
   "id": "13c5ac63-0ed8-4408-aeab-4a5dae813610",
   "metadata": {
    "tags": []
   },
   "outputs": [
    {
     "data": {
      "text/plain": [
       "'This is a car'"
      ]
     },
     "execution_count": 4,
     "metadata": {},
     "output_type": "execute_result"
    }
   ],
   "source": [
    "class MyCustomClass:\n",
    "    def __str__(self):\n",
    "        return \"a car\"\n",
    "\n",
    "template = ZPromptTemplate.from_template(\n",
    "    \"This is {thing}\"\n",
    ").permissive_partial(thing=MyCustomClass())\n",
    "template.format()"
   ]
  },
  {
   "cell_type": "markdown",
   "id": "c856c9ea-864d-4ada-bf3c-10fa0102fa8f",
   "metadata": {},
   "source": [
    "The permissive partials also call any functions you pass in, just as the regular kinds do. To reproduce an example from the Langchain docs:"
   ]
  },
  {
   "cell_type": "code",
   "execution_count": 5,
   "id": "8551f75d-351b-40f6-9d6d-1190728165d3",
   "metadata": {
    "tags": []
   },
   "outputs": [
    {
     "name": "stdout",
     "output_type": "stream",
     "text": [
      "Tell me a funny joke about the day 03/31/2023, 14:16:24\n"
     ]
    }
   ],
   "source": [
    "from datetime import datetime\n",
    "from langchain_contrib.prompts import ZPromptTemplate\n",
    "\n",
    "def _get_datetime():\n",
    "    now = datetime.now()\n",
    "    return now.strftime(\"%m/%d/%Y, %H:%M:%S\")\n",
    "\n",
    "prompt = ZPromptTemplate.from_template(\n",
    "    \"Tell me a {adjective} joke about the day {date}\"\n",
    ")\n",
    "partial_prompt = prompt.permissive_partial(date=_get_datetime)\n",
    "print(partial_prompt.format(adjective=\"funny\"))"
   ]
  },
  {
   "cell_type": "markdown",
   "id": "ffa5fa85-a8b3-44df-9456-297ac2125d65",
   "metadata": {},
   "source": [
    "### Defaulting to other keys\n",
    "\n",
    "Partials can also refer to other keys, which can be useful when [chaining together](/prompts/chained.html) formerly unrelated prompts:"
   ]
  },
  {
   "cell_type": "code",
   "execution_count": 6,
   "id": "62dc4469-612d-413a-8205-c5e6c86a768d",
   "metadata": {
    "tags": []
   },
   "outputs": [
    {
     "data": {
      "text/plain": [
       "'I went to buy a apple. I ate the apple.'"
      ]
     },
     "execution_count": 6,
     "metadata": {},
     "output_type": "execute_result"
    }
   ],
   "source": [
    "from langchain_contrib.prompts import ChainedPromptTemplate, DefaultsTo\n",
    "\n",
    "product = ZPromptTemplate.from_template(\"I went to buy a {product}.\")\n",
    "fruit = ZPromptTemplate.from_template(\"I ate the {fruit}.\")\n",
    "chained = ChainedPromptTemplate(subprompts=[product, fruit], joiner=\" \")\n",
    "partial = chained.permissive_partial(product=DefaultsTo(\"fruit\"))\n",
    "\n",
    "partial.format(fruit=\"apple\")"
   ]
  },
  {
   "cell_type": "markdown",
   "id": "9df86e1c-986b-48f8-831f-3f9272296857",
   "metadata": {
    "tags": []
   },
   "source": [
    "You can of course still override the partial at prompt formatting time:"
   ]
  },
  {
   "cell_type": "code",
   "execution_count": 7,
   "id": "85c6ae80-90f5-4311-903f-7f675aa6b525",
   "metadata": {
    "tags": []
   },
   "outputs": [
    {
     "data": {
      "text/plain": [
       "'I went to buy a banana. I ate the apple.'"
      ]
     },
     "execution_count": 7,
     "metadata": {},
     "output_type": "execute_result"
    }
   ],
   "source": [
    "partial.format(product=\"banana\", fruit=\"apple\")"
   ]
  },
  {
   "cell_type": "markdown",
   "id": "efd1563e-0ccb-4bbc-ab76-f38611748010",
   "metadata": {},
   "source": [
    "### Chat Prompt Template partials\n",
    "\n",
    "`ZChatPromptTemplate` in also supports partials now, unlike the regular ChatPromptTemplate:"
   ]
  },
  {
   "cell_type": "code",
   "execution_count": 8,
   "id": "f1569799-89ae-4a4b-8483-4b53781a4942",
   "metadata": {
    "tags": []
   },
   "outputs": [
    {
     "data": {
      "text/plain": [
       "ChatPromptValue(messages=[SystemMessage(content='a=one b=2 c=[3]', additional_kwargs={})])"
      ]
     },
     "execution_count": 8,
     "metadata": {},
     "output_type": "execute_result"
    }
   ],
   "source": [
    "from langchain_contrib.prompts import ZChatPromptTemplate\n",
    "from langchain.prompts.chat import SystemMessagePromptTemplate\n",
    "\n",
    "template = ZChatPromptTemplate.from_messages(\n",
    "    [SystemMessagePromptTemplate.from_template(\"a={a} b={b} c={c}\")]\n",
    ")\n",
    "partial = template.partial(a=\"one\").permissive_partial(b=2)\n",
    "partial.format_prompt(c=[3])"
   ]
  }
 ],
 "metadata": {
  "kernelspec": {
   "display_name": "Python 3 (ipykernel)",
   "language": "python",
   "name": "python3"
  },
  "language_info": {
   "codemirror_mode": {
    "name": "ipython",
    "version": 3
   },
   "file_extension": ".py",
   "mimetype": "text/x-python",
   "name": "python",
   "nbconvert_exporter": "python",
   "pygments_lexer": "ipython3",
   "version": "3.11.1"
  }
 },
 "nbformat": 4,
 "nbformat_minor": 5
}
