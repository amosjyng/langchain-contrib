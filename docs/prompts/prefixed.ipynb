{
 "cells": [
  {
   "cell_type": "markdown",
   "id": "639a69f3-8687-4309-a0b4-bfa02608f186",
   "metadata": {},
   "source": [
    "# Prefixed Prompt Templates\n",
    "\n",
    "Say you have a chain with the following prompt template:"
   ]
  },
  {
   "cell_type": "code",
   "execution_count": 1,
   "id": "9da09e1e-dd97-4b72-bd6f-3078964bddf4",
   "metadata": {
    "tags": []
   },
   "outputs": [
    {
     "data": {
      "text/plain": [
       "'Enter in the bash command you want to run: '"
      ]
     },
     "execution_count": 1,
     "metadata": {},
     "output_type": "execute_result"
    }
   ],
   "source": [
    "from langchain.prompts.prompt import PromptTemplate\n",
    "\n",
    "shell_template = PromptTemplate.from_template(\"Enter in the {shell} command you want to run: \")\n",
    "shell_template.format(shell=\"bash\")"
   ]
  },
  {
   "cell_type": "markdown",
   "id": "cc437b17-9471-4b2b-8e32-ff22ad3cbedd",
   "metadata": {},
   "source": [
    "Unfortunately, the LLM won't know how to complete this prompt without context. At the same time, if you've figured out a good prompt for the LLM to complete shell commands for you, you'd want to be able to easily compose this with arbitrary prior contexts.\n",
    "\n",
    "Enter the `PrefixedTemplate`:"
   ]
  },
  {
   "cell_type": "code",
   "execution_count": 2,
   "id": "16f768c4-bab9-4f17-b9d4-de07718590fd",
   "metadata": {
    "tags": []
   },
   "outputs": [],
   "source": [
    "from langchain_contrib.prompts import PrefixedTemplate\n",
    "\n",
    "get_shell_template = PrefixedTemplate(shell_template)"
   ]
  },
  {
   "cell_type": "markdown",
   "id": "737c3693-0418-4bc3-90b1-c6b1972bd004",
   "metadata": {},
   "source": [
    "Now you can define a new template that adds prior context to the current one:"
   ]
  },
  {
   "cell_type": "code",
   "execution_count": 3,
   "id": "2491020a-fa96-40c8-8efe-a6b5a18b2572",
   "metadata": {
    "tags": []
   },
   "outputs": [
    {
     "data": {
      "text/plain": [
       "'Your task is to delete asdf.txt. Enter in the bash command you want to run: '"
      ]
     },
     "execution_count": 3,
     "metadata": {},
     "output_type": "execute_result"
    }
   ],
   "source": [
    "complete_task_template = get_shell_template(prefix=\"Your task is to {task}.\", joiner=\" \")\n",
    "complete_task_template.format(task=\"delete asdf.txt\", shell=\"bash\")"
   ]
  },
  {
   "cell_type": "markdown",
   "id": "6aa5b235-0dfb-4d61-9287-266fb38b3aa2",
   "metadata": {},
   "source": [
    "And you can reuse `shell_template` for a different prior context:"
   ]
  },
  {
   "cell_type": "code",
   "execution_count": 4,
   "id": "b8308449-087e-467f-a470-26e1f45afd65",
   "metadata": {
    "tags": []
   },
   "outputs": [
    {
     "name": "stdout",
     "output_type": "stream",
     "text": [
      "Your previous command `rm asdf.txt` resulted in `Permission denied.`. Please try again.\n",
      "\n",
      "Enter in the bash command you want to run: \n"
     ]
    }
   ],
   "source": [
    "redo_command_template = get_shell_template(\n",
    "    prefix=\"Your previous command `{command}` resulted in `{output}`. Please try again.\",\n",
    "    joiner=\"\\n\\n\",\n",
    ")\n",
    "print(redo_command_template.format(command=\"rm asdf.txt\", output=\"Permission denied.\", shell=\"bash\"))"
   ]
  },
  {
   "cell_type": "markdown",
   "id": "55cbba8d-d70c-4564-884f-3c826aa3e24e",
   "metadata": {},
   "source": [
    "## Prefixing chat prompts\n",
    "\n",
    "This also works automatically with adding context to chat prompts:"
   ]
  },
  {
   "cell_type": "code",
   "execution_count": 5,
   "id": "5f6349ba-9ede-4cfe-bb03-5c01f808ac06",
   "metadata": {
    "tags": []
   },
   "outputs": [
    {
     "data": {
      "text/plain": [
       "ChatPromptValue(messages=[SystemMessage(content='Your task is to delete asdf.txt.', additional_kwargs={}), HumanMessage(content='Enter in the bash command you want to run: ', additional_kwargs={})])"
      ]
     },
     "execution_count": 5,
     "metadata": {},
     "output_type": "execute_result"
    }
   ],
   "source": [
    "from langchain.prompts.chat import SystemMessagePromptTemplate\n",
    "\n",
    "complete_task_chat_template = get_shell_template(\n",
    "    prefix=SystemMessagePromptTemplate.from_template(\"Your task is to {task}.\"),\n",
    ")\n",
    "complete_task_chat_template.format_prompt(task=\"delete asdf.txt\", shell=\"bash\")"
   ]
  }
 ],
 "metadata": {
  "kernelspec": {
   "display_name": "Python 3 (ipykernel)",
   "language": "python",
   "name": "python3"
  },
  "language_info": {
   "codemirror_mode": {
    "name": "ipython",
    "version": 3
   },
   "file_extension": ".py",
   "mimetype": "text/x-python",
   "name": "python",
   "nbconvert_exporter": "python",
   "pygments_lexer": "ipython3",
   "version": "3.11.1"
  }
 },
 "nbformat": 4,
 "nbformat_minor": 5
}
