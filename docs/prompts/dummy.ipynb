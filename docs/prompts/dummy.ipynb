{
 "cells": [
  {
   "cell_type": "markdown",
   "id": "e3ddd681-b7f0-4d99-9ba7-5d94987b63c5",
   "metadata": {
    "tags": []
   },
   "source": [
    "# Dummy Prompt Template\n",
    "\n",
    "Dummy template for when you need to provide a template but don't care for a real one.\n",
    "\n",
    "This errors out on attempted usage so that you can be sure you're not actually using it."
   ]
  },
  {
   "cell_type": "code",
   "execution_count": 2,
   "id": "815cc846-2b98-439d-b11d-3f433a95b561",
   "metadata": {
    "tags": []
   },
   "outputs": [
    {
     "name": "stdout",
     "output_type": "stream",
     "text": [
      "Error: You're using the dummy prompt template.\n"
     ]
    }
   ],
   "source": [
    "from langchain_contrib.prompts import DummyPromptTemplate\n",
    "\n",
    "try:\n",
    "    template = DummyPromptTemplate()\n",
    "    template.format(thing=\"one\")\n",
    "except Exception as e:\n",
    "    print(f\"Error: {e}\")"
   ]
  }
 ],
 "metadata": {
  "kernelspec": {
   "display_name": "Python 3 (ipykernel)",
   "language": "python",
   "name": "python3"
  },
  "language_info": {
   "codemirror_mode": {
    "name": "ipython",
    "version": 3
   },
   "file_extension": ".py",
   "mimetype": "text/x-python",
   "name": "python",
   "nbconvert_exporter": "python",
   "pygments_lexer": "ipython3",
   "version": "3.11.1"
  }
 },
 "nbformat": 4,
 "nbformat_minor": 5
}
