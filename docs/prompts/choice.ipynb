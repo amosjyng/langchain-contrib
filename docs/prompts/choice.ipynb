{
 "cells": [
  {
   "cell_type": "markdown",
   "id": "8d3e742b-104a-43da-b346-f8a2155a5e08",
   "metadata": {},
   "source": [
    "# Choice Prompt Template\n",
    "\n",
    "If you want to ask the LLM to pick from a series of choices, you can use `ChoicePromptTemplate` to help you do so."
   ]
  },
  {
   "cell_type": "code",
   "execution_count": 1,
   "id": "de915b3d-14b6-4590-8864-dbca030bcc11",
   "metadata": {
    "tags": []
   },
   "outputs": [
    {
     "data": {
      "text/plain": [
       "'This dress is available in red, green, or blue. Which color should I pick?'"
      ]
     },
     "execution_count": 1,
     "metadata": {},
     "output_type": "execute_result"
    }
   ],
   "source": [
    "from langchain_contrib.prompts import ChoicePromptTemplate\n",
    "\n",
    "colors = [\"red\", \"green\", \"blue\"]\n",
    "\n",
    "template = ChoicePromptTemplate.from_template(\n",
    "    \"This {product} is available in {choices}. Which color should I pick?\",\n",
    "    choices=colors,\n",
    ")\n",
    "template.format(product=\"dress\")"
   ]
  },
  {
   "cell_type": "markdown",
   "id": "ae34f942-96fe-4706-97a3-90f2aff96243",
   "metadata": {},
   "source": [
    "This works with Chat messages as well:"
   ]
  },
  {
   "cell_type": "code",
   "execution_count": 2,
   "id": "104bcbb8-014e-4459-b71f-4a55cfd7da31",
   "metadata": {
    "tags": []
   },
   "outputs": [
    {
     "data": {
      "text/plain": [
       "[SystemMessage(content='You are helping the user pick a dress.', additional_kwargs={}),\n",
       " HumanMessage(content='This dress is available in red, green, or blue. Which color should I pick?', additional_kwargs={})]"
      ]
     },
     "execution_count": 2,
     "metadata": {},
     "output_type": "execute_result"
    }
   ],
   "source": [
    "from langchain.prompts.chat import (\n",
    "    HumanMessagePromptTemplate,\n",
    "    SystemMessagePromptTemplate,\n",
    ")\n",
    "\n",
    "chat_template = ChoicePromptTemplate.from_messages(\n",
    "    messages=[\n",
    "        SystemMessagePromptTemplate.from_template(\n",
    "            \"You are helping the user pick a {product}.\"\n",
    "        ),\n",
    "        HumanMessagePromptTemplate.from_template(\n",
    "            \"This {product} is available in {choices}. Which color should I pick?\"\n",
    "        ),\n",
    "    ],\n",
    "    choices=colors,\n",
    ")\n",
    "chat_template.format_prompt(product=\"dress\").to_messages()"
   ]
  },
  {
   "cell_type": "markdown",
   "id": "fe2578f3-f53b-423c-8224-9dfa74bf3803",
   "metadata": {},
   "source": [
    "## Serializing the choices\n",
    "\n",
    "You can pick a different way of serializing the list of choices if you'd like.\n",
    "\n",
    "The default one is the Oxford comma formatter, with which you can also customize the conjunction used:"
   ]
  },
  {
   "cell_type": "code",
   "execution_count": 3,
   "id": "1a51a442-101d-463c-8926-fecce4f5fd3b",
   "metadata": {
    "tags": []
   },
   "outputs": [
    {
     "data": {
      "text/plain": [
       "'This car is available in red and green. Which color should I pick?'"
      ]
     },
     "execution_count": 3,
     "metadata": {},
     "output_type": "execute_result"
    }
   ],
   "source": [
    "from langchain_contrib.prompts.choice import get_oxford_comma_formatter\n",
    "\n",
    "template = ChoicePromptTemplate.from_template(\n",
    "    \"This {product} is available in {choices}. Which color should I pick?\",\n",
    "    choices=[\"red\", \"green\"],\n",
    "    choices_formatter = get_oxford_comma_formatter(conjunction=\"and\")\n",
    ")\n",
    "template.format(product=\"car\")"
   ]
  },
  {
   "cell_type": "markdown",
   "id": "5195d3b9-6a49-491a-9641-e25f21c5cc6f",
   "metadata": {},
   "source": [
    "Or, you could simply go with a regular Python join as well:"
   ]
  },
  {
   "cell_type": "code",
   "execution_count": 4,
   "id": "642320e1-cb4e-4ccf-b460-f72b4480b6cb",
   "metadata": {
    "tags": []
   },
   "outputs": [
    {
     "data": {
      "text/plain": [
       "'This car is available in red, green. Which color should I pick?'"
      ]
     },
     "execution_count": 4,
     "metadata": {},
     "output_type": "execute_result"
    }
   ],
   "source": [
    "from langchain_contrib.prompts.choice import get_simple_joiner\n",
    "\n",
    "template.choices_formatter = get_simple_joiner()\n",
    "template.format(product=\"car\")"
   ]
  },
  {
   "cell_type": "markdown",
   "id": "59e7245f-3dd5-4196-97e9-b286d65fc62a",
   "metadata": {},
   "source": [
    "Or, you could even go with a list:"
   ]
  },
  {
   "cell_type": "code",
   "execution_count": 5,
   "id": "b62af447-4949-4eae-bc8d-e53b2944a762",
   "metadata": {
    "tags": []
   },
   "outputs": [
    {
     "name": "stdout",
     "output_type": "stream",
     "text": [
      "Your available actions are\n",
      "\n",
      "1. Page a human\n",
      "2. Retry\n",
      "3. Proceed\n",
      "\n",
      "Which will you pick?\n"
     ]
    }
   ],
   "source": [
    "from langchain_contrib.prompts.choice import list_of_choices\n",
    "\n",
    "template = ChoicePromptTemplate.from_template(\n",
    "    \"\"\"Your available actions are\n",
    "\n",
    "{choices}\n",
    "\n",
    "Which will you pick?\"\"\",\n",
    "    choices=[\"Page a human\", \"Retry\", \"Proceed\"],\n",
    "    choices_formatter = list_of_choices,\n",
    ")\n",
    "print(template.format())"
   ]
  },
  {
   "cell_type": "markdown",
   "id": "83fdbbf4-b4a3-42e6-a668-91494986d805",
   "metadata": {},
   "source": [
    "## Customizing the choice variable\n",
    "\n",
    "If you want to use a different key than `choice` in your template, you can also specify that as well. For example, to use `tool_names` instead of `choice` in the template:"
   ]
  },
  {
   "cell_type": "code",
   "execution_count": 6,
   "id": "80eec30d-ef59-4c27-9e64-055a7d31713a",
   "metadata": {
    "tags": []
   },
   "outputs": [
    {
     "data": {
      "text/plain": [
       "'Your task is to take over the world. You have access to Google and a Bash terminal. Begin.'"
      ]
     },
     "execution_count": 6,
     "metadata": {},
     "output_type": "execute_result"
    }
   ],
   "source": [
    "template = ChoicePromptTemplate.from_template(\n",
    "    \"Your task is to {task}. You have access to {tool_names}. Begin.\",\n",
    "    choices=[\"Google\", \"a Bash terminal\"],\n",
    "    choices_formatter=get_oxford_comma_formatter(\"and\"),\n",
    "    choice_format_key=\"tool_names\",\n",
    ")\n",
    "template.format(task=\"take over the world\")"
   ]
  },
  {
   "cell_type": "markdown",
   "id": "573924a3-f346-4add-8ec8-d06aeffab07a",
   "metadata": {},
   "source": [
    "## Chain and LLM interop\n",
    "\n",
    "The `ChoicePromptTemplate` is designed to be compatible with the [ChoiceChain](/chains/choice.html), which actually executes a subsequent chain based on the decision made.\n",
    "\n",
    "It also generates a Choice `PromptValue` that retains information about which choices were used to generate the prompt. This is used, for example, by the [Human \"LLM\"](/llms/human.html) to show a terminal menu to the user when presented with such a prompt."
   ]
  }
 ],
 "metadata": {
  "kernelspec": {
   "display_name": "Python 3 (ipykernel)",
   "language": "python",
   "name": "python3"
  },
  "language_info": {
   "codemirror_mode": {
    "name": "ipython",
    "version": 3
   },
   "file_extension": ".py",
   "mimetype": "text/x-python",
   "name": "python",
   "nbconvert_exporter": "python",
   "pygments_lexer": "ipython3",
   "version": "3.11.1"
  }
 },
 "nbformat": 4,
 "nbformat_minor": 5
}
