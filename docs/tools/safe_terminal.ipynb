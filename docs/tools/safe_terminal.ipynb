{
 "cells": [
  {
   "cell_type": "markdown",
   "id": "95a2585b-9688-4076-ae80-a8681a4b9354",
   "metadata": {},
   "source": [
    "# Safe Terminal\n",
    "\n",
    "The LLM can be prone to messing things up. If you want to manually review the LLM's commands before they get executed, you can do so with the `SafeTerminalChain`."
   ]
  },
  {
   "cell_type": "code",
   "execution_count": 1,
   "id": "22abbefd-2382-4d16-ab46-3dc2f04b95cf",
   "metadata": {
    "tags": []
   },
   "outputs": [
    {
     "name": "stdout",
     "output_type": "stream",
     "text": [
      "The LLM would like to run the command `date`. You can choose to Proceed or Edit command.\n",
      "\n",
      "Your choice: \n",
      "\n"
     ]
    },
    {
     "name": "stdin",
     "output_type": "stream",
     "text": [
      " Proceed\n"
     ]
    },
    {
     "data": {
      "text/plain": [
       "{'command': 'date', 'output': 'Fri Jun 30 18:49:54 +07 2023', 'overrides': {}}"
      ]
     },
     "execution_count": 1,
     "metadata": {},
     "output_type": "execute_result"
    }
   ],
   "source": [
    "from langchain_contrib.llms.testing import FakeLLM\n",
    "from langchain_contrib.tools import SafeTerminalChain\n",
    "\n",
    "llm = FakeLLM(sequenced_responses=[\"date\"])\n",
    "safe_terminal = SafeTerminalChain()\n",
    "\n",
    "safe_terminal(llm(\"Tell me what day it is.\"))"
   ]
  },
  {
   "cell_type": "markdown",
   "id": "343335a2-e43d-4444-bb12-2bf0a0baaa56",
   "metadata": {},
   "source": [
    "In this case the command run was rather innocuous. However, if the LLM is coming up with the completely wrong command to use, you also have the choice to edit it for the LLM:"
   ]
  },
  {
   "cell_type": "code",
   "execution_count": 2,
   "id": "6370aa36-e044-47f7-a04d-21939c7673ac",
   "metadata": {
    "tags": []
   },
   "outputs": [
    {
     "name": "stdout",
     "output_type": "stream",
     "text": [
      "The LLM would like to run the command `rm important.txt`. You can choose to Proceed or Edit command.\n",
      "\n",
      "Your choice: \n",
      "\n"
     ]
    },
    {
     "name": "stdin",
     "output_type": "stream",
     "text": [
      " Edit command\n",
      "Replace it with:  ls important.txt\n"
     ]
    },
    {
     "data": {
      "text/plain": [
       "{'command': 'ls important.txt',\n",
       " 'output': \"ls: cannot access 'important.txt': No such file or directory\",\n",
       " 'overrides': {'command': 'rm important.txt'}}"
      ]
     },
     "execution_count": 2,
     "metadata": {},
     "output_type": "execute_result"
    }
   ],
   "source": [
    "llm = FakeLLM(sequenced_responses=[\"rm important.txt\"])\n",
    "safe_terminal(llm(\"Tell me if important.txt exists.\"))"
   ]
  },
  {
   "cell_type": "markdown",
   "id": "d56bf56d-7c20-4042-a21c-70758e21b748",
   "metadata": {},
   "source": [
    "Note that the output dict includes both the new command, and an `overrides` dict that indicates the original attributes the user overrode. This allows you to maintain an accurate agent scratchpad when editing commands run by the agent."
   ]
  }
 ],
 "metadata": {
  "kernelspec": {
   "display_name": "Python 3 (ipykernel)",
   "language": "python",
   "name": "python3"
  },
  "language_info": {
   "codemirror_mode": {
    "name": "ipython",
    "version": 3
   },
   "file_extension": ".py",
   "mimetype": "text/x-python",
   "name": "python",
   "nbconvert_exporter": "python",
   "pygments_lexer": "ipython3",
   "version": "3.11.1"
  }
 },
 "nbformat": 4,
 "nbformat_minor": 5
}
