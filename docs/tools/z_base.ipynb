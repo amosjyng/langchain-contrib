{
 "cells": [
  {
   "cell_type": "markdown",
   "id": "ba3f58be-bc07-4dec-b45c-240d18a30548",
   "metadata": {},
   "source": [
    "# ZBaseTool\n",
    "\n",
    "The `ZBaseTool` saves default color information along with each tool, making it possible for tool output to be color-coded even if it's not specified at runtime. This is used by [the Choice chain](/chains/choice.html#Initializing-from-tools) to save tool colors during initialization.\n",
    "\n",
    "It can either be wrapped around an existing tool:"
   ]
  },
  {
   "cell_type": "code",
   "execution_count": 1,
   "id": "98c2c305-a3c3-4d1d-88e5-3532dc1d1d4b",
   "metadata": {
    "tags": []
   },
   "outputs": [
    {
     "name": "stdout",
     "output_type": "stream",
     "text": [
      "\n",
      "\u001b[31;1m\u001b[1;3mpersistent_terminal.ipynb  safe_terminal.ipynb\ttools.rst  z_base.ipynb\n",
      "\u001b[0m\n"
     ]
    },
    {
     "data": {
      "text/plain": [
       "'persistent_terminal.ipynb  safe_terminal.ipynb\\ttools.rst  z_base.ipynb\\n'"
      ]
     },
     "execution_count": 1,
     "metadata": {},
     "output_type": "execute_result"
    }
   ],
   "source": [
    "from langchain_contrib.tools import TerminalTool\n",
    "from langchain_contrib.tools import ZBaseTool\n",
    "\n",
    "tool = ZBaseTool.from_tool(base_tool=TerminalTool(), color=\"red\")\n",
    "tool.run(\"ls\", verbose=True, observation_prefix=\"\", llm_prefix=\"\")"
   ]
  },
  {
   "cell_type": "markdown",
   "id": "ef0ab813-f93b-48cc-afa2-47a97253ba15",
   "metadata": {},
   "source": [
    "Or it can be subclassed:"
   ]
  },
  {
   "cell_type": "code",
   "execution_count": 2,
   "id": "758ed9fc-3ee1-419b-bb09-86b310e3a7cf",
   "metadata": {
    "tags": []
   },
   "outputs": [
    {
     "name": "stdout",
     "output_type": "stream",
     "text": [
      "\n",
      "\u001b[38;5;200m\u001b[1;3mDemonstration: This is pink\u001b[0m\n"
     ]
    },
    {
     "data": {
      "text/plain": [
       "'Demonstration: This is pink'"
      ]
     },
     "execution_count": 2,
     "metadata": {},
     "output_type": "execute_result"
    }
   ],
   "source": [
    "class DemoTool(ZBaseTool):\n",
    "    name: str = \"Demo\"\n",
    "    description: str = \"Demo tool\"\n",
    "    \n",
    "    def _run(self, tool_input: str) -> str:\n",
    "        \"\"\"Use the tool.\"\"\"\n",
    "        return f\"Demonstration: {tool_input}\"\n",
    "\n",
    "\n",
    "tool = DemoTool(color=\"pink\")\n",
    "tool.run(\"This is pink\", verbose=True, observation_prefix=\"\", llm_prefix=\"\")"
   ]
  }
 ],
 "metadata": {
  "kernelspec": {
   "display_name": "Python 3 (ipykernel)",
   "language": "python",
   "name": "python3"
  },
  "language_info": {
   "codemirror_mode": {
    "name": "ipython",
    "version": 3
   },
   "file_extension": ".py",
   "mimetype": "text/x-python",
   "name": "python",
   "nbconvert_exporter": "python",
   "pygments_lexer": "ipython3",
   "version": "3.11.1"
  }
 },
 "nbformat": 4,
 "nbformat_minor": 5
}
