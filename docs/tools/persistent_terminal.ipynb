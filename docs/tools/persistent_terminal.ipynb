{
 "cells": [
  {
   "cell_type": "markdown",
   "id": "53610a4a-960b-4712-b7b3-dbb2d7898b79",
   "metadata": {},
   "source": [
    "# Persistent Terminal\n",
    "\n",
    "`langchain`'s default `BashProcess` tool does not persist changes to the shell. For example, the LLM is unable to change the current working directory and execute new commands from there:"
   ]
  },
  {
   "cell_type": "code",
   "execution_count": 1,
   "id": "0a693028-10f9-46a6-9990-80fb2698bd6c",
   "metadata": {
    "tags": []
   },
   "outputs": [
    {
     "name": "stdout",
     "output_type": "stream",
     "text": [
      "\n",
      "\n",
      "\u001b[1m> Entering new AgentExecutor chain...\u001b[0m\n",
      "\u001b[32;1m\u001b[1;3m I need to use the terminal to print the current directory and then go two levels up.\n",
      "Action: Terminal\n",
      "Action Input: pwd\u001b[0m\n",
      "Observation: \u001b[36;1m\u001b[1;3m/home/amos/projects/gpt-experiments/langchain-contrib/docs/tools\n",
      "\u001b[0m\n",
      "Thought:\u001b[32;1m\u001b[1;3m I need to use the terminal to go two levels up.\n",
      "Action: Terminal\n",
      "Action Input: cd ../../\u001b[0m\n",
      "Observation: \u001b[36;1m\u001b[1;3m\u001b[0m\n",
      "Thought:\u001b[32;1m\u001b[1;3m I need to use the terminal to print the current directory again.\n",
      "Action: Terminal\n",
      "Action Input: pwd\u001b[0m\n",
      "Observation: \u001b[36;1m\u001b[1;3m/home/amos/projects/gpt-experiments/langchain-contrib/docs/tools\n",
      "\u001b[0m\n",
      "Thought:\u001b[32;1m\u001b[1;3m I now know the final answer.\n",
      "Final Answer: The current directory is /home/amos/projects/gpt-experiments/langchain-contrib/docs/tools after going two levels up.\u001b[0m\n",
      "\n",
      "\u001b[1m> Finished chain.\u001b[0m\n"
     ]
    },
    {
     "data": {
      "text/plain": [
       "'The current directory is /home/amos/projects/gpt-experiments/langchain-contrib/docs/tools after going two levels up.'"
      ]
     },
     "execution_count": 1,
     "metadata": {},
     "output_type": "execute_result"
    }
   ],
   "source": [
    "from langchain.agents import initialize_agent, load_tools\n",
    "from langchain.llms import OpenAI\n",
    "\n",
    "llm = OpenAI(temperature=0)\n",
    "tools = load_tools([\"terminal\"], llm=llm)\n",
    "agent = initialize_agent(\n",
    "    tools, llm, agent=\"zero-shot-react-description\", verbose=True\n",
    ")\n",
    "agent.run(\n",
    "    \"Print the current directory. Go two levels up. Print the current directory again.\"\n",
    ")"
   ]
  },
  {
   "cell_type": "markdown",
   "id": "a46a2633-af93-45d6-b050-1e7703f03d25",
   "metadata": {},
   "source": [
    "`langchain-contrib` offers a drop-in replacement that does offer this ability. Simply import `langchain_contrib.tools` and then load the `persistent_terminal` tool instead:"
   ]
  },
  {
   "cell_type": "code",
   "execution_count": 2,
   "id": "13a3760e-a19e-4ab1-a0d9-ad59bb7f9b98",
   "metadata": {
    "tags": []
   },
   "outputs": [
    {
     "name": "stdout",
     "output_type": "stream",
     "text": [
      "\n",
      "\n",
      "\u001b[1m> Entering new AgentExecutor chain...\u001b[0m\n",
      "\u001b[32;1m\u001b[1;3m I need to use the terminal to print the current directory and then go two levels up.\n",
      "Action: Terminal\n",
      "Action Input: pwd\u001b[0m\n",
      "Observation: \u001b[36;1m\u001b[1;3m/home/amos/projects/gpt-experiments/langchain-contrib/docs/tools\n",
      "\u001b[0m\n",
      "Thought:\u001b[32;1m\u001b[1;3m I need to use the terminal to go two levels up.\n",
      "Action: Terminal\n",
      "Action Input: cd ../../\u001b[0m\n",
      "Observation: \u001b[36;1m\u001b[1;3m\u001b[0m\n",
      "Thought:\u001b[32;1m\u001b[1;3m I need to use the terminal to print the current directory again.\n",
      "Action: Terminal\n",
      "Action Input: pwd\u001b[0m\n",
      "Observation: \u001b[36;1m\u001b[1;3m/home/amos/projects/gpt-experiments/langchain-contrib\n",
      "\u001b[0m\n",
      "Thought:\u001b[32;1m\u001b[1;3m I now know the final answer.\n",
      "Final Answer: The current directory is /home/amos/projects/gpt-experiments/langchain-contrib.\u001b[0m\n",
      "\n",
      "\u001b[1m> Finished chain.\u001b[0m\n"
     ]
    },
    {
     "data": {
      "text/plain": [
       "'The current directory is /home/amos/projects/gpt-experiments/langchain-contrib.'"
      ]
     },
     "execution_count": 2,
     "metadata": {},
     "output_type": "execute_result"
    }
   ],
   "source": [
    "import langchain_contrib.tools  # noqa: F401\n",
    "\n",
    "tools = load_tools([\"persistent_terminal\"], llm=llm)\n",
    "agent = initialize_agent(\n",
    "    tools, llm, agent=\"zero-shot-react-description\", verbose=True\n",
    ")\n",
    "agent.run(\n",
    "    \"Print the current directory. Go two levels up. Print the current directory again.\"\n",
    ")"
   ]
  }
 ],
 "metadata": {
  "kernelspec": {
   "display_name": "Python 3 (ipykernel)",
   "language": "python",
   "name": "python3"
  },
  "language_info": {
   "codemirror_mode": {
    "name": "ipython",
    "version": 3
   },
   "file_extension": ".py",
   "mimetype": "text/x-python",
   "name": "python",
   "nbconvert_exporter": "python",
   "pygments_lexer": "ipython3",
   "version": "3.11.1"
  }
 },
 "nbformat": 4,
 "nbformat_minor": 5
}
