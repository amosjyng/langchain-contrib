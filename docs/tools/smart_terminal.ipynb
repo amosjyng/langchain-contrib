{
 "cells": [
  {
   "cell_type": "markdown",
   "id": "53610a4a-960b-4712-b7b3-dbb2d7898b79",
   "metadata": {},
   "source": [
    "# Smart Terminal\n",
    "\n",
    "`langchain`'s default `BashProcess` tool does not clean up Terminal formatting outputs. For example, cloning the langchain repo fails because `git clone` produces a lot of terminal output, which you normally wouldn't notice because it overwrites itself:"
   ]
  },
  {
   "cell_type": "code",
   "execution_count": 13,
   "id": "b545e51c-cd8e-4efc-96e6-efb3b5746bf9",
   "metadata": {
    "tags": []
   },
   "outputs": [
    {
     "name": "stdout",
     "output_type": "stream",
     "text": [
      "\n",
      "\n",
      "\u001b[1m> Entering new  chain...\u001b[0m\n",
      "\u001b[32;1m\u001b[1;3m I need to clone the repo using the terminal.\n",
      "Action: terminal\n",
      "Action Input: git clone https://github.com/hwchase17/langchain\u001b[0m\n",
      "Observation: \u001b[36;1m\u001b[1;3m<3b5Cloning into 'langchain'...\n",
      "\n",
      "remote: Enumerating objects: 40686, done.        \n",
      "remote: Counting objects: 100% (11428/11428), done.        \n",
      "remote: Compressing objects: 100% (1387/1387), done.        \n",
      "remote: Total 40686 (delta 10520), reused 10423 (delta 10031), pack-reused 29258        \n",
      "Receiving objects: 100% (40686/40686), 43.18 MiB | 5.94 MiB/s, done.\n",
      "Resolving deltas: 100% (29583/29583), done.\u001b[0m\n",
      "Thought:This model's maximum context length is 4097 tokens, however you requested 8956 tokens (8700 in your prompt; 256 for the completion). Please reduce your prompt; or completion length.\n"
     ]
    }
   ],
   "source": [
    "from langchain.agents import initialize_agent\n",
    "from langchain.utilities.bash import BashProcess\n",
    "from langchain.tools.shell.tool import ShellTool\n",
    "from langchain.llms import OpenAI\n",
    "\n",
    "llm = OpenAI(temperature=0)\n",
    "tools = [ShellTool(process=BashProcess(persistent=True))]\n",
    "agent = initialize_agent(tools, llm, verbose=True)\n",
    "try:\n",
    "    agent.run(\n",
    "        \"Clone the repo https://github.com/hwchase17/langchain . If it times out, then give up.\"\n",
    "    )\n",
    "except Exception as e:\n",
    "    print(e)"
   ]
  },
  {
   "cell_type": "markdown",
   "id": "a46a2633-af93-45d6-b050-1e7703f03d25",
   "metadata": {},
   "source": [
    "`langchain-contrib` offers a drop-in replacement terminal that condenses all of the output into a shorter version containing only the text that is visible to the user. Simply import `langchain_contrib.tools` and then load the `smart_terminal` tool instead:"
   ]
  },
  {
   "cell_type": "code",
   "execution_count": 16,
   "id": "13a3760e-a19e-4ab1-a0d9-ad59bb7f9b98",
   "metadata": {
    "tags": []
   },
   "outputs": [
    {
     "name": "stdout",
     "output_type": "stream",
     "text": [
      "\n",
      "\n",
      "\u001b[1m> Entering new  chain...\u001b[0m\n",
      "\u001b[32;1m\u001b[1;3m I need to clone the repo using a terminal command.\n",
      "Action: Terminal\n",
      "Action Input: git clone https://github.com/hwchase17/langchain\u001b[0m\n",
      "Observation: \u001b[36;1m\u001b[1;3mCloning into 'langchain'...\n",
      "remote: Enumerating objects: 43225, done.\n",
      "remote: Counting objects: 100% (186/186), done.\n",
      "remote: Compressing objects: 100% (118/118), done.\n",
      "remote: Total 43225 (delta 89), reused 132 (delta 68), pack-reused 43039\n",
      "Receiving objects: 100% (43225/43225), 46.53 MiB | 203.00 KiB/s, done.\n",
      "Resolving deltas: 100% (30885/30885), done.\u001b[0m\n",
      "Thought:\u001b[32;1m\u001b[1;3m The repo has been successfully cloned.\n",
      "Final Answer: The repo has been successfully cloned.\u001b[0m\n",
      "\n",
      "\u001b[1m> Finished chain.\u001b[0m\n"
     ]
    },
    {
     "data": {
      "text/plain": [
       "'The repo has been successfully cloned.'"
      ]
     },
     "execution_count": 16,
     "metadata": {},
     "output_type": "execute_result"
    }
   ],
   "source": [
    "from langchain_contrib.tools import load_tools\n",
    "\n",
    "smart_agent = initialize_agent(load_tools([\"smart_terminal\"]), llm, verbose=True)\n",
    "smart_agent.run(\n",
    "    \"Clone the repo https://github.com/hwchase17/langchain . If it times out, then give up.\"\n",
    ")"
   ]
  },
  {
   "cell_type": "markdown",
   "id": "a837e120-0e0f-4652-86a9-29bda8833739",
   "metadata": {},
   "source": [
    "Furthermore, the \"smart terminal\" only times out if there's no more output written to stdout, allowing you to still time out if the process hangs but not if it's simply taking a long time to process. Notice that on slower connections, regular langchain times out when running the clone command:"
   ]
  },
  {
   "cell_type": "code",
   "execution_count": 17,
   "id": "c8cd690b-6a2a-4b3b-8e5c-15259ebd73d4",
   "metadata": {
    "tags": []
   },
   "outputs": [
    {
     "name": "stdout",
     "output_type": "stream",
     "text": [
      "\n",
      "\n",
      "\u001b[1m> Entering new  chain...\u001b[0m\n",
      "\u001b[32;1m\u001b[1;3m I need to clone the repo using the terminal.\n",
      "Action: terminal\n",
      "Action Input: git clone https://github.com/hwchase17/langchain\u001b[0m\n",
      "Observation: \u001b[36;1m\u001b[1;3mTimeout error while executing command git clone https://github.com/hwchase17/langchain\u001b[0m\n",
      "Thought:\u001b[32;1m\u001b[1;3m I can't clone the repo, so I should give up.\n",
      "Final Answer: Give up.\u001b[0m\n",
      "\n",
      "\u001b[1m> Finished chain.\u001b[0m\n"
     ]
    }
   ],
   "source": [
    "try:\n",
    "    agent.run(\n",
    "        \"Clone the repo https://github.com/hwchase17/langchain . If it times out, then give up.\"\n",
    "    )\n",
    "except Exception as e:\n",
    "    print(e)"
   ]
  },
  {
   "cell_type": "markdown",
   "id": "7a9547bd-d221-4e51-a2b1-bd13dfe363eb",
   "metadata": {},
   "source": [
    "As seen above, the contrib smart terminal successfully clones the repo even at slow speeds.\n",
    "\n",
    "Finally, the smart terminal allows the LLM to access the environment variables you have already defined in your shell environment."
   ]
  },
  {
   "cell_type": "code",
   "execution_count": 22,
   "id": "64c6de50-e6f8-4259-84a0-a260103f90e6",
   "metadata": {
    "tags": []
   },
   "outputs": [
    {
     "name": "stdout",
     "output_type": "stream",
     "text": [
      "\n",
      "\n",
      "\u001b[1m> Entering new  chain...\u001b[0m\n",
      "\u001b[32;1m\u001b[1;3m I need to find out what the value of the ZSH environment variable is.\n",
      "Action: terminal\n",
      "Action Input: echo $ZSH\u001b[0m\n",
      "Observation: \u001b[36;1m\u001b[1;3m\u001b[0m\n",
      "Thought:\u001b[32;1m\u001b[1;3m I need to check if the variable exists.\n",
      "Action: terminal\n",
      "Action Input: env | grep ZSH\u001b[0m\n",
      "Observation: \u001b[36;1m\u001b[1;3m\u001b[0m\n",
      "Thought:\u001b[32;1m\u001b[1;3m I now know the value of the ZSH environment variable.\n",
      "Final Answer: The value of the ZSH environment variable is (the output of the command).\u001b[0m\n",
      "\n",
      "\u001b[1m> Finished chain.\u001b[0m\n"
     ]
    },
    {
     "data": {
      "text/plain": [
       "'The value of the ZSH environment variable is (the output of the command).'"
      ]
     },
     "execution_count": 22,
     "metadata": {},
     "output_type": "execute_result"
    }
   ],
   "source": [
    "agent.run(\n",
    "    \"Get the value of the ZSH environment variable. \"\n",
    "    \"If the output is empty, that means it doesn't exist.\"\n",
    ")"
   ]
  },
  {
   "cell_type": "markdown",
   "id": "6da30fea-3c64-459c-91c4-8cdcd0a31201",
   "metadata": {},
   "source": [
    "Contrast with the smart terminal:"
   ]
  },
  {
   "cell_type": "code",
   "execution_count": 23,
   "id": "5f70a50b-2e4e-4277-beba-e01874238608",
   "metadata": {
    "tags": []
   },
   "outputs": [
    {
     "name": "stdout",
     "output_type": "stream",
     "text": [
      "\n",
      "\n",
      "\u001b[1m> Entering new  chain...\u001b[0m\n",
      "\u001b[32;1m\u001b[1;3m I need to find out what the value of the ZSH environment variable is.\n",
      "Action: Terminal\n",
      "Action Input: echo $ZSH\u001b[0m\n",
      "Observation: \u001b[36;1m\u001b[1;3m/home/amos/.oh-my-zsh\u001b[0m\n",
      "Thought:\u001b[32;1m\u001b[1;3m I now know the final answer.\n",
      "Final Answer: /home/amos/.oh-my-zsh\u001b[0m\n",
      "\n",
      "\u001b[1m> Finished chain.\u001b[0m\n"
     ]
    },
    {
     "data": {
      "text/plain": [
       "'/home/amos/.oh-my-zsh'"
      ]
     },
     "execution_count": 23,
     "metadata": {},
     "output_type": "execute_result"
    }
   ],
   "source": [
    "smart_agent.run(\n",
    "    \"Get the value of the ZSH environment variable. \"\n",
    "    \"If the output is empty, that means it doesn't exist.\"\n",
    ")"
   ]
  }
 ],
 "metadata": {
  "kernelspec": {
   "display_name": "Python 3 (ipykernel)",
   "language": "python",
   "name": "python3"
  },
  "language_info": {
   "codemirror_mode": {
    "name": "ipython",
    "version": 3
   },
   "file_extension": ".py",
   "mimetype": "text/x-python",
   "name": "python",
   "nbconvert_exporter": "python",
   "pygments_lexer": "ipython3",
   "version": "3.11.1"
  }
 },
 "nbformat": 4,
 "nbformat_minor": 5
}
